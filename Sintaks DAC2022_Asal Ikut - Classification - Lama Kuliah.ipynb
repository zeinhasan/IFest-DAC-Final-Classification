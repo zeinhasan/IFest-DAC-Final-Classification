{
 "cells": [
  {
   "cell_type": "code",
   "execution_count": 18,
   "id": "1ceb922b",
   "metadata": {},
   "outputs": [
    {
     "name": "stdout",
     "output_type": "stream",
     "text": [
      "time: 0 ns (started: 2022-10-01 14:42:32 +07:00)\n"
     ]
    }
   ],
   "source": [
    "%load_ext autotime\n",
    "import pandas as pd\n",
    "import numpy as np\n",
    "import seaborn as sns\n",
    "import missingno as msno\n",
    "import matplotlib.pyplot as plt\n",
    "from collections import Counter\n",
    "from sklearn.preprocessing import MinMaxScaler,StandardScaler\n",
    "from sklearn.model_selection import train_test_split,cross_val_score\n",
    "from sklearn.metrics import mean_absolute_error,make_scorer,classification_report, confusion_matrix, accuracy_score\n",
    "from sklearn.svm import SVC\n",
    "from sklearn.ensemble import RandomForestClassifier"
   ]
  },
  {
   "cell_type": "code",
   "execution_count": 19,
   "id": "f63fdb32",
   "metadata": {},
   "outputs": [
    {
     "data": {
      "text/html": [
       "<div>\n",
       "<style scoped>\n",
       "    .dataframe tbody tr th:only-of-type {\n",
       "        vertical-align: middle;\n",
       "    }\n",
       "\n",
       "    .dataframe tbody tr th {\n",
       "        vertical-align: top;\n",
       "    }\n",
       "\n",
       "    .dataframe thead th {\n",
       "        text-align: right;\n",
       "    }\n",
       "</style>\n",
       "<table border=\"1\" class=\"dataframe\">\n",
       "  <thead>\n",
       "    <tr style=\"text-align: right;\">\n",
       "      <th></th>\n",
       "      <th>Bahasa</th>\n",
       "      <th>Inggris</th>\n",
       "      <th>TIK</th>\n",
       "      <th>Matematika</th>\n",
       "      <th>Fisika</th>\n",
       "      <th>Kimia</th>\n",
       "      <th>Biologi</th>\n",
       "      <th>Geografi</th>\n",
       "      <th>Sosiologi</th>\n",
       "      <th>Antropologi</th>\n",
       "      <th>...</th>\n",
       "      <th>Extra_Kurikuler_Ekskul_3</th>\n",
       "      <th>Extra_Kurikuler_Ekskul_4</th>\n",
       "      <th>Extra_Kurikuler_Ekskul_5</th>\n",
       "      <th>Extra_Kurikuler_Ekskul_6</th>\n",
       "      <th>Extra_Kurikuler_Tidak</th>\n",
       "      <th>Tinggal_Dengan_Orang Tua</th>\n",
       "      <th>Tinggal_Dengan_Others</th>\n",
       "      <th>Status_Kerja_Belum</th>\n",
       "      <th>Biaya_Orang Tua</th>\n",
       "      <th>Biaya_Others</th>\n",
       "    </tr>\n",
       "  </thead>\n",
       "  <tbody>\n",
       "    <tr>\n",
       "      <th>0</th>\n",
       "      <td>69.8</td>\n",
       "      <td>64.6</td>\n",
       "      <td>64.0</td>\n",
       "      <td>81.5</td>\n",
       "      <td>88.2</td>\n",
       "      <td>86.7</td>\n",
       "      <td>68.3</td>\n",
       "      <td>74.0</td>\n",
       "      <td>67.7</td>\n",
       "      <td>70.7</td>\n",
       "      <td>...</td>\n",
       "      <td>0</td>\n",
       "      <td>1</td>\n",
       "      <td>0</td>\n",
       "      <td>0</td>\n",
       "      <td>0</td>\n",
       "      <td>0</td>\n",
       "      <td>0</td>\n",
       "      <td>1</td>\n",
       "      <td>0</td>\n",
       "      <td>0</td>\n",
       "    </tr>\n",
       "    <tr>\n",
       "      <th>1</th>\n",
       "      <td>68.7</td>\n",
       "      <td>88.3</td>\n",
       "      <td>80.9</td>\n",
       "      <td>80.7</td>\n",
       "      <td>67.8</td>\n",
       "      <td>67.3</td>\n",
       "      <td>72.1</td>\n",
       "      <td>77.3</td>\n",
       "      <td>64.4</td>\n",
       "      <td>62.8</td>\n",
       "      <td>...</td>\n",
       "      <td>0</td>\n",
       "      <td>1</td>\n",
       "      <td>0</td>\n",
       "      <td>0</td>\n",
       "      <td>0</td>\n",
       "      <td>0</td>\n",
       "      <td>1</td>\n",
       "      <td>1</td>\n",
       "      <td>0</td>\n",
       "      <td>1</td>\n",
       "    </tr>\n",
       "    <tr>\n",
       "      <th>2</th>\n",
       "      <td>83.8</td>\n",
       "      <td>79.8</td>\n",
       "      <td>79.2</td>\n",
       "      <td>66.3</td>\n",
       "      <td>82.3</td>\n",
       "      <td>82.7</td>\n",
       "      <td>74.2</td>\n",
       "      <td>84.0</td>\n",
       "      <td>75.4</td>\n",
       "      <td>65.9</td>\n",
       "      <td>...</td>\n",
       "      <td>0</td>\n",
       "      <td>0</td>\n",
       "      <td>0</td>\n",
       "      <td>0</td>\n",
       "      <td>0</td>\n",
       "      <td>0</td>\n",
       "      <td>1</td>\n",
       "      <td>0</td>\n",
       "      <td>0</td>\n",
       "      <td>0</td>\n",
       "    </tr>\n",
       "    <tr>\n",
       "      <th>3</th>\n",
       "      <td>66.7</td>\n",
       "      <td>63.7</td>\n",
       "      <td>64.0</td>\n",
       "      <td>60.2</td>\n",
       "      <td>75.9</td>\n",
       "      <td>87.6</td>\n",
       "      <td>85.6</td>\n",
       "      <td>68.1</td>\n",
       "      <td>73.7</td>\n",
       "      <td>61.7</td>\n",
       "      <td>...</td>\n",
       "      <td>0</td>\n",
       "      <td>1</td>\n",
       "      <td>0</td>\n",
       "      <td>0</td>\n",
       "      <td>0</td>\n",
       "      <td>1</td>\n",
       "      <td>0</td>\n",
       "      <td>1</td>\n",
       "      <td>0</td>\n",
       "      <td>0</td>\n",
       "    </tr>\n",
       "    <tr>\n",
       "      <th>4</th>\n",
       "      <td>62.3</td>\n",
       "      <td>76.8</td>\n",
       "      <td>77.0</td>\n",
       "      <td>87.1</td>\n",
       "      <td>65.1</td>\n",
       "      <td>65.7</td>\n",
       "      <td>70.8</td>\n",
       "      <td>67.0</td>\n",
       "      <td>77.3</td>\n",
       "      <td>79.0</td>\n",
       "      <td>...</td>\n",
       "      <td>0</td>\n",
       "      <td>0</td>\n",
       "      <td>0</td>\n",
       "      <td>0</td>\n",
       "      <td>0</td>\n",
       "      <td>1</td>\n",
       "      <td>0</td>\n",
       "      <td>0</td>\n",
       "      <td>0</td>\n",
       "      <td>1</td>\n",
       "    </tr>\n",
       "  </tbody>\n",
       "</table>\n",
       "<p>5 rows × 27 columns</p>\n",
       "</div>"
      ],
      "text/plain": [
       "   Bahasa  Inggris   TIK  Matematika  Fisika  Kimia  Biologi  Geografi  \\\n",
       "0    69.8     64.6  64.0        81.5    88.2   86.7     68.3      74.0   \n",
       "1    68.7     88.3  80.9        80.7    67.8   67.3     72.1      77.3   \n",
       "2    83.8     79.8  79.2        66.3    82.3   82.7     74.2      84.0   \n",
       "3    66.7     63.7  64.0        60.2    75.9   87.6     85.6      68.1   \n",
       "4    62.3     76.8  77.0        87.1    65.1   65.7     70.8      67.0   \n",
       "\n",
       "   Sosiologi  Antropologi  ... Extra_Kurikuler_Ekskul_3  \\\n",
       "0       67.7         70.7  ...                        0   \n",
       "1       64.4         62.8  ...                        0   \n",
       "2       75.4         65.9  ...                        0   \n",
       "3       73.7         61.7  ...                        0   \n",
       "4       77.3         79.0  ...                        0   \n",
       "\n",
       "   Extra_Kurikuler_Ekskul_4  Extra_Kurikuler_Ekskul_5  \\\n",
       "0                         1                         0   \n",
       "1                         1                         0   \n",
       "2                         0                         0   \n",
       "3                         1                         0   \n",
       "4                         0                         0   \n",
       "\n",
       "   Extra_Kurikuler_Ekskul_6  Extra_Kurikuler_Tidak  Tinggal_Dengan_Orang Tua  \\\n",
       "0                         0                      0                         0   \n",
       "1                         0                      0                         0   \n",
       "2                         0                      0                         0   \n",
       "3                         0                      0                         1   \n",
       "4                         0                      0                         1   \n",
       "\n",
       "   Tinggal_Dengan_Others  Status_Kerja_Belum  Biaya_Orang Tua  Biaya_Others  \n",
       "0                      0                   1                0             0  \n",
       "1                      1                   1                0             1  \n",
       "2                      1                   0                0             0  \n",
       "3                      0                   1                0             0  \n",
       "4                      0                   0                0             1  \n",
       "\n",
       "[5 rows x 27 columns]"
      ]
     },
     "execution_count": 19,
     "metadata": {},
     "output_type": "execute_result"
    },
    {
     "name": "stdout",
     "output_type": "stream",
     "text": [
      "time: 47 ms (started: 2022-10-01 14:42:33 +07:00)\n"
     ]
    }
   ],
   "source": [
    "df = pd.read_csv('Train_Preprocessed_LamaKuliah.csv')\n",
    "df=df.drop(columns=[\"Fakultas\"])\n",
    "df[\"Lama_Kuliah\"] = df[\"Lama_Kuliah\"].astype(str) \n",
    "df.head()"
   ]
  },
  {
   "cell_type": "code",
   "execution_count": 20,
   "id": "5d67fcd5",
   "metadata": {},
   "outputs": [
    {
     "name": "stdout",
     "output_type": "stream",
     "text": [
      "time: 31 ms (started: 2022-10-01 14:42:35 +07:00)\n"
     ]
    }
   ],
   "source": [
    "X_train, X_test, y_train, y_test = train_test_split(df.drop(columns=\"Lama_Kuliah\"), df[\"Lama_Kuliah\"], stratify=df[\"Lama_Kuliah\"], \n",
    "                                                    test_size=.25, random_state=123456)"
   ]
  },
  {
   "cell_type": "markdown",
   "id": "ac5b37f3-95ab-4172-b614-33b8c47092d6",
   "metadata": {},
   "source": [
    "# Modelling "
   ]
  },
  {
   "cell_type": "markdown",
   "id": "7e72e2ab-7ba8-451d-a941-1e754a242e5d",
   "metadata": {},
   "source": [
    "## RF BASED"
   ]
  },
  {
   "cell_type": "code",
   "execution_count": 21,
   "id": "592b3130-f38b-4e71-bf7e-2a05472eca0a",
   "metadata": {},
   "outputs": [
    {
     "name": "stdout",
     "output_type": "stream",
     "text": [
      "time: 0 ns (started: 2022-10-01 14:42:36 +07:00)\n"
     ]
    }
   ],
   "source": [
    "clf = RandomForestClassifier(random_state=12345)"
   ]
  },
  {
   "cell_type": "code",
   "execution_count": 22,
   "id": "30af80ee-2460-40fb-90ce-ab1fd577b678",
   "metadata": {},
   "outputs": [
    {
     "data": {
      "text/html": [
       "<style>#sk-container-id-3 {color: black;background-color: white;}#sk-container-id-3 pre{padding: 0;}#sk-container-id-3 div.sk-toggleable {background-color: white;}#sk-container-id-3 label.sk-toggleable__label {cursor: pointer;display: block;width: 100%;margin-bottom: 0;padding: 0.3em;box-sizing: border-box;text-align: center;}#sk-container-id-3 label.sk-toggleable__label-arrow:before {content: \"▸\";float: left;margin-right: 0.25em;color: #696969;}#sk-container-id-3 label.sk-toggleable__label-arrow:hover:before {color: black;}#sk-container-id-3 div.sk-estimator:hover label.sk-toggleable__label-arrow:before {color: black;}#sk-container-id-3 div.sk-toggleable__content {max-height: 0;max-width: 0;overflow: hidden;text-align: left;background-color: #f0f8ff;}#sk-container-id-3 div.sk-toggleable__content pre {margin: 0.2em;color: black;border-radius: 0.25em;background-color: #f0f8ff;}#sk-container-id-3 input.sk-toggleable__control:checked~div.sk-toggleable__content {max-height: 200px;max-width: 100%;overflow: auto;}#sk-container-id-3 input.sk-toggleable__control:checked~label.sk-toggleable__label-arrow:before {content: \"▾\";}#sk-container-id-3 div.sk-estimator input.sk-toggleable__control:checked~label.sk-toggleable__label {background-color: #d4ebff;}#sk-container-id-3 div.sk-label input.sk-toggleable__control:checked~label.sk-toggleable__label {background-color: #d4ebff;}#sk-container-id-3 input.sk-hidden--visually {border: 0;clip: rect(1px 1px 1px 1px);clip: rect(1px, 1px, 1px, 1px);height: 1px;margin: -1px;overflow: hidden;padding: 0;position: absolute;width: 1px;}#sk-container-id-3 div.sk-estimator {font-family: monospace;background-color: #f0f8ff;border: 1px dotted black;border-radius: 0.25em;box-sizing: border-box;margin-bottom: 0.5em;}#sk-container-id-3 div.sk-estimator:hover {background-color: #d4ebff;}#sk-container-id-3 div.sk-parallel-item::after {content: \"\";width: 100%;border-bottom: 1px solid gray;flex-grow: 1;}#sk-container-id-3 div.sk-label:hover label.sk-toggleable__label {background-color: #d4ebff;}#sk-container-id-3 div.sk-serial::before {content: \"\";position: absolute;border-left: 1px solid gray;box-sizing: border-box;top: 0;bottom: 0;left: 50%;z-index: 0;}#sk-container-id-3 div.sk-serial {display: flex;flex-direction: column;align-items: center;background-color: white;padding-right: 0.2em;padding-left: 0.2em;position: relative;}#sk-container-id-3 div.sk-item {position: relative;z-index: 1;}#sk-container-id-3 div.sk-parallel {display: flex;align-items: stretch;justify-content: center;background-color: white;position: relative;}#sk-container-id-3 div.sk-item::before, #sk-container-id-3 div.sk-parallel-item::before {content: \"\";position: absolute;border-left: 1px solid gray;box-sizing: border-box;top: 0;bottom: 0;left: 50%;z-index: -1;}#sk-container-id-3 div.sk-parallel-item {display: flex;flex-direction: column;z-index: 1;position: relative;background-color: white;}#sk-container-id-3 div.sk-parallel-item:first-child::after {align-self: flex-end;width: 50%;}#sk-container-id-3 div.sk-parallel-item:last-child::after {align-self: flex-start;width: 50%;}#sk-container-id-3 div.sk-parallel-item:only-child::after {width: 0;}#sk-container-id-3 div.sk-dashed-wrapped {border: 1px dashed gray;margin: 0 0.4em 0.5em 0.4em;box-sizing: border-box;padding-bottom: 0.4em;background-color: white;}#sk-container-id-3 div.sk-label label {font-family: monospace;font-weight: bold;display: inline-block;line-height: 1.2em;}#sk-container-id-3 div.sk-label-container {text-align: center;}#sk-container-id-3 div.sk-container {/* jupyter's `normalize.less` sets `[hidden] { display: none; }` but bootstrap.min.css set `[hidden] { display: none !important; }` so we also need the `!important` here to be able to override the default hidden behavior on the sphinx rendered scikit-learn.org. See: https://github.com/scikit-learn/scikit-learn/issues/21755 */display: inline-block !important;position: relative;}#sk-container-id-3 div.sk-text-repr-fallback {display: none;}</style><div id=\"sk-container-id-3\" class=\"sk-top-container\"><div class=\"sk-text-repr-fallback\"><pre>RandomForestClassifier(random_state=12345)</pre><b>In a Jupyter environment, please rerun this cell to show the HTML representation or trust the notebook. <br />On GitHub, the HTML representation is unable to render, please try loading this page with nbviewer.org.</b></div><div class=\"sk-container\" hidden><div class=\"sk-item\"><div class=\"sk-estimator sk-toggleable\"><input class=\"sk-toggleable__control sk-hidden--visually\" id=\"sk-estimator-id-3\" type=\"checkbox\" checked><label for=\"sk-estimator-id-3\" class=\"sk-toggleable__label sk-toggleable__label-arrow\">RandomForestClassifier</label><div class=\"sk-toggleable__content\"><pre>RandomForestClassifier(random_state=12345)</pre></div></div></div></div></div>"
      ],
      "text/plain": [
       "RandomForestClassifier(random_state=12345)"
      ]
     },
     "execution_count": 22,
     "metadata": {},
     "output_type": "execute_result"
    },
    {
     "name": "stdout",
     "output_type": "stream",
     "text": [
      "time: 3.2 s (started: 2022-10-01 14:42:36 +07:00)\n"
     ]
    }
   ],
   "source": [
    "clf.fit(X_train,y_train)"
   ]
  },
  {
   "cell_type": "code",
   "execution_count": 23,
   "id": "459fa1e2-f31b-4376-a148-043f9ab41213",
   "metadata": {},
   "outputs": [
    {
     "name": "stdout",
     "output_type": "stream",
     "text": [
      "time: 94 ms (started: 2022-10-01 14:42:39 +07:00)\n"
     ]
    }
   ],
   "source": [
    "RF_Pred_Test=clf.predict(X_test)"
   ]
  },
  {
   "cell_type": "code",
   "execution_count": 24,
   "id": "7241d301-3bee-4a56-b8c4-d586381e8ed4",
   "metadata": {},
   "outputs": [
    {
     "name": "stdout",
     "output_type": "stream",
     "text": [
      "              precision    recall  f1-score   support\n",
      "\n",
      "         3.5       0.14      0.15      0.15       352\n",
      "         4.0       0.10      0.11      0.10       360\n",
      "         4.5       0.13      0.16      0.14       372\n",
      "         5.0       0.14      0.14      0.14       372\n",
      "         5.5       0.11      0.10      0.11       354\n",
      "         6.0       0.16      0.15      0.16       353\n",
      "         6.5       0.11      0.09      0.10       345\n",
      "         7.0       0.13      0.11      0.12       367\n",
      "\n",
      "    accuracy                           0.13      2875\n",
      "   macro avg       0.13      0.13      0.13      2875\n",
      "weighted avg       0.13      0.13      0.13      2875\n",
      "\n",
      "time: 78 ms (started: 2022-10-01 14:42:39 +07:00)\n"
     ]
    }
   ],
   "source": [
    "# Check Classification report\n",
    "print(classification_report(y_test,RF_Pred_Test))"
   ]
  },
  {
   "cell_type": "markdown",
   "id": "44ac5ed3-56e4-4140-bf97-4b76a2128849",
   "metadata": {},
   "source": [
    "## SVM"
   ]
  },
  {
   "cell_type": "code",
   "execution_count": 25,
   "id": "2dcaa83f-6800-49f0-82c2-6de51853cf43",
   "metadata": {},
   "outputs": [
    {
     "name": "stdout",
     "output_type": "stream",
     "text": [
      "time: 0 ns (started: 2022-10-01 14:42:39 +07:00)\n"
     ]
    }
   ],
   "source": [
    "SVC_Model=SVC(gamma=\"auto\")"
   ]
  },
  {
   "cell_type": "code",
   "execution_count": 26,
   "id": "50b66474-bba9-44ec-952f-eb58970ca0f6",
   "metadata": {},
   "outputs": [
    {
     "data": {
      "text/html": [
       "<style>#sk-container-id-4 {color: black;background-color: white;}#sk-container-id-4 pre{padding: 0;}#sk-container-id-4 div.sk-toggleable {background-color: white;}#sk-container-id-4 label.sk-toggleable__label {cursor: pointer;display: block;width: 100%;margin-bottom: 0;padding: 0.3em;box-sizing: border-box;text-align: center;}#sk-container-id-4 label.sk-toggleable__label-arrow:before {content: \"▸\";float: left;margin-right: 0.25em;color: #696969;}#sk-container-id-4 label.sk-toggleable__label-arrow:hover:before {color: black;}#sk-container-id-4 div.sk-estimator:hover label.sk-toggleable__label-arrow:before {color: black;}#sk-container-id-4 div.sk-toggleable__content {max-height: 0;max-width: 0;overflow: hidden;text-align: left;background-color: #f0f8ff;}#sk-container-id-4 div.sk-toggleable__content pre {margin: 0.2em;color: black;border-radius: 0.25em;background-color: #f0f8ff;}#sk-container-id-4 input.sk-toggleable__control:checked~div.sk-toggleable__content {max-height: 200px;max-width: 100%;overflow: auto;}#sk-container-id-4 input.sk-toggleable__control:checked~label.sk-toggleable__label-arrow:before {content: \"▾\";}#sk-container-id-4 div.sk-estimator input.sk-toggleable__control:checked~label.sk-toggleable__label {background-color: #d4ebff;}#sk-container-id-4 div.sk-label input.sk-toggleable__control:checked~label.sk-toggleable__label {background-color: #d4ebff;}#sk-container-id-4 input.sk-hidden--visually {border: 0;clip: rect(1px 1px 1px 1px);clip: rect(1px, 1px, 1px, 1px);height: 1px;margin: -1px;overflow: hidden;padding: 0;position: absolute;width: 1px;}#sk-container-id-4 div.sk-estimator {font-family: monospace;background-color: #f0f8ff;border: 1px dotted black;border-radius: 0.25em;box-sizing: border-box;margin-bottom: 0.5em;}#sk-container-id-4 div.sk-estimator:hover {background-color: #d4ebff;}#sk-container-id-4 div.sk-parallel-item::after {content: \"\";width: 100%;border-bottom: 1px solid gray;flex-grow: 1;}#sk-container-id-4 div.sk-label:hover label.sk-toggleable__label {background-color: #d4ebff;}#sk-container-id-4 div.sk-serial::before {content: \"\";position: absolute;border-left: 1px solid gray;box-sizing: border-box;top: 0;bottom: 0;left: 50%;z-index: 0;}#sk-container-id-4 div.sk-serial {display: flex;flex-direction: column;align-items: center;background-color: white;padding-right: 0.2em;padding-left: 0.2em;position: relative;}#sk-container-id-4 div.sk-item {position: relative;z-index: 1;}#sk-container-id-4 div.sk-parallel {display: flex;align-items: stretch;justify-content: center;background-color: white;position: relative;}#sk-container-id-4 div.sk-item::before, #sk-container-id-4 div.sk-parallel-item::before {content: \"\";position: absolute;border-left: 1px solid gray;box-sizing: border-box;top: 0;bottom: 0;left: 50%;z-index: -1;}#sk-container-id-4 div.sk-parallel-item {display: flex;flex-direction: column;z-index: 1;position: relative;background-color: white;}#sk-container-id-4 div.sk-parallel-item:first-child::after {align-self: flex-end;width: 50%;}#sk-container-id-4 div.sk-parallel-item:last-child::after {align-self: flex-start;width: 50%;}#sk-container-id-4 div.sk-parallel-item:only-child::after {width: 0;}#sk-container-id-4 div.sk-dashed-wrapped {border: 1px dashed gray;margin: 0 0.4em 0.5em 0.4em;box-sizing: border-box;padding-bottom: 0.4em;background-color: white;}#sk-container-id-4 div.sk-label label {font-family: monospace;font-weight: bold;display: inline-block;line-height: 1.2em;}#sk-container-id-4 div.sk-label-container {text-align: center;}#sk-container-id-4 div.sk-container {/* jupyter's `normalize.less` sets `[hidden] { display: none; }` but bootstrap.min.css set `[hidden] { display: none !important; }` so we also need the `!important` here to be able to override the default hidden behavior on the sphinx rendered scikit-learn.org. See: https://github.com/scikit-learn/scikit-learn/issues/21755 */display: inline-block !important;position: relative;}#sk-container-id-4 div.sk-text-repr-fallback {display: none;}</style><div id=\"sk-container-id-4\" class=\"sk-top-container\"><div class=\"sk-text-repr-fallback\"><pre>SVC(gamma=&#x27;auto&#x27;)</pre><b>In a Jupyter environment, please rerun this cell to show the HTML representation or trust the notebook. <br />On GitHub, the HTML representation is unable to render, please try loading this page with nbviewer.org.</b></div><div class=\"sk-container\" hidden><div class=\"sk-item\"><div class=\"sk-estimator sk-toggleable\"><input class=\"sk-toggleable__control sk-hidden--visually\" id=\"sk-estimator-id-4\" type=\"checkbox\" checked><label for=\"sk-estimator-id-4\" class=\"sk-toggleable__label sk-toggleable__label-arrow\">SVC</label><div class=\"sk-toggleable__content\"><pre>SVC(gamma=&#x27;auto&#x27;)</pre></div></div></div></div></div>"
      ],
      "text/plain": [
       "SVC(gamma='auto')"
      ]
     },
     "execution_count": 26,
     "metadata": {},
     "output_type": "execute_result"
    },
    {
     "name": "stdout",
     "output_type": "stream",
     "text": [
      "time: 9.02 s (started: 2022-10-01 14:42:40 +07:00)\n"
     ]
    }
   ],
   "source": [
    "SVC_Model.fit(X_train,y_train)"
   ]
  },
  {
   "cell_type": "code",
   "execution_count": 27,
   "id": "e05532ad-d14b-4d01-9846-0b75fa1ed4b0",
   "metadata": {},
   "outputs": [
    {
     "name": "stdout",
     "output_type": "stream",
     "text": [
      "time: 3.25 s (started: 2022-10-01 14:42:49 +07:00)\n"
     ]
    }
   ],
   "source": [
    "SVC_Pred_Test=SVC_Model.predict(X_test)"
   ]
  },
  {
   "cell_type": "code",
   "execution_count": 28,
   "id": "02584441-13f1-4b6c-b7e7-72fd4e46e262",
   "metadata": {},
   "outputs": [
    {
     "name": "stdout",
     "output_type": "stream",
     "text": [
      "              precision    recall  f1-score   support\n",
      "\n",
      "         3.5       0.18      0.01      0.01       352\n",
      "         4.0       0.13      0.01      0.01       360\n",
      "         4.5       0.12      0.20      0.15       372\n",
      "         5.0       0.13      0.72      0.21       372\n",
      "         5.5       0.14      0.01      0.01       354\n",
      "         6.0       0.25      0.01      0.02       353\n",
      "         6.5       0.00      0.00      0.00       345\n",
      "         7.0       0.12      0.03      0.05       367\n",
      "\n",
      "    accuracy                           0.13      2875\n",
      "   macro avg       0.13      0.12      0.06      2875\n",
      "weighted avg       0.13      0.13      0.06      2875\n",
      "\n",
      "time: 63 ms (started: 2022-10-01 14:42:52 +07:00)\n"
     ]
    }
   ],
   "source": [
    "# Check Classification report\n",
    "print(classification_report(y_test,SVC_Pred_Test))"
   ]
  },
  {
   "cell_type": "markdown",
   "id": "e9a6f9e2-4894-4ee7-a7b5-2c1b1cdd28b6",
   "metadata": {},
   "source": [
    "# Naive Bayes"
   ]
  },
  {
   "cell_type": "code",
   "execution_count": 29,
   "id": "76cc4c61-de47-4af4-8440-45b00176ae01",
   "metadata": {},
   "outputs": [
    {
     "name": "stdout",
     "output_type": "stream",
     "text": [
      "time: 0 ns (started: 2022-10-01 14:42:52 +07:00)\n"
     ]
    }
   ],
   "source": [
    "from sklearn.naive_bayes import MultinomialNB"
   ]
  },
  {
   "cell_type": "code",
   "execution_count": 30,
   "id": "5fa4acd2-2628-4138-8306-2c57cd2bce2c",
   "metadata": {},
   "outputs": [
    {
     "name": "stdout",
     "output_type": "stream",
     "text": [
      "time: 31 ms (started: 2022-10-01 14:42:52 +07:00)\n"
     ]
    }
   ],
   "source": [
    "# Built the model\n",
    "model1=MultinomialNB().fit(X_train, y_train)"
   ]
  },
  {
   "cell_type": "code",
   "execution_count": 31,
   "id": "026a5cff-f392-43ed-8c27-6301eaafd305",
   "metadata": {},
   "outputs": [
    {
     "name": "stdout",
     "output_type": "stream",
     "text": [
      "time: 0 ns (started: 2022-10-01 14:42:52 +07:00)\n"
     ]
    }
   ],
   "source": [
    "# Predict the model\n",
    "predicted=model1.predict(X_test)"
   ]
  },
  {
   "cell_type": "code",
   "execution_count": 32,
   "id": "e74e0f6c-17be-4982-b0ef-fb3f287e59ac",
   "metadata": {},
   "outputs": [
    {
     "name": "stdout",
     "output_type": "stream",
     "text": [
      "              precision    recall  f1-score   support\n",
      "\n",
      "         3.5       0.12      0.07      0.09       352\n",
      "         4.0       0.13      0.07      0.09       360\n",
      "         4.5       0.12      0.22      0.15       372\n",
      "         5.0       0.11      0.17      0.14       372\n",
      "         5.5       0.11      0.12      0.11       354\n",
      "         6.0       0.13      0.11      0.12       353\n",
      "         6.5       0.14      0.05      0.07       345\n",
      "         7.0       0.10      0.10      0.10       367\n",
      "\n",
      "    accuracy                           0.12      2875\n",
      "   macro avg       0.12      0.12      0.11      2875\n",
      "weighted avg       0.12      0.12      0.11      2875\n",
      "\n",
      "time: 47 ms (started: 2022-10-01 14:42:52 +07:00)\n"
     ]
    }
   ],
   "source": [
    "# Check Classification report\n",
    "print(classification_report(y_test,predicted))"
   ]
  },
  {
   "cell_type": "code",
   "execution_count": 33,
   "id": "8c620b54",
   "metadata": {},
   "outputs": [
    {
     "name": "stdout",
     "output_type": "stream",
     "text": [
      "time: 78 ms (started: 2022-10-01 15:34:09 +07:00)\n"
     ]
    }
   ],
   "source": [
    "import pickle\n",
    "pickle.dump(clf , open('LamaKuliah_RF', 'wb'))\n",
    "pickle.dump(SVC_Model, open('LamaKuliah_SVM', 'wb'))\n",
    "pickle.dump(model1, open('LamaKuliah_NaiveBayes', 'wb'))"
   ]
  },
  {
   "cell_type": "markdown",
   "id": "047597b0",
   "metadata": {},
   "source": [
    "# Prediksi Lama Kuliah"
   ]
  },
  {
   "cell_type": "code",
   "execution_count": 37,
   "id": "64d3c0de",
   "metadata": {},
   "outputs": [
    {
     "data": {
      "text/html": [
       "<div>\n",
       "<style scoped>\n",
       "    .dataframe tbody tr th:only-of-type {\n",
       "        vertical-align: middle;\n",
       "    }\n",
       "\n",
       "    .dataframe tbody tr th {\n",
       "        vertical-align: top;\n",
       "    }\n",
       "\n",
       "    .dataframe thead th {\n",
       "        text-align: right;\n",
       "    }\n",
       "</style>\n",
       "<table border=\"1\" class=\"dataframe\">\n",
       "  <thead>\n",
       "    <tr style=\"text-align: right;\">\n",
       "      <th></th>\n",
       "      <th>Bahasa</th>\n",
       "      <th>Inggris</th>\n",
       "      <th>TIK</th>\n",
       "      <th>Matematika</th>\n",
       "      <th>Fisika</th>\n",
       "      <th>Kimia</th>\n",
       "      <th>Biologi</th>\n",
       "      <th>Geografi</th>\n",
       "      <th>Sosiologi</th>\n",
       "      <th>Antropologi</th>\n",
       "      <th>...</th>\n",
       "      <th>Extra_Kurikuler_Ekskul_3</th>\n",
       "      <th>Extra_Kurikuler_Ekskul_4</th>\n",
       "      <th>Extra_Kurikuler_Ekskul_5</th>\n",
       "      <th>Extra_Kurikuler_Ekskul_6</th>\n",
       "      <th>Extra_Kurikuler_Tidak</th>\n",
       "      <th>Tinggal_Dengan_Orang Tua</th>\n",
       "      <th>Tinggal_Dengan_Others</th>\n",
       "      <th>Status_Kerja_Belum</th>\n",
       "      <th>Biaya_Orang Tua</th>\n",
       "      <th>Biaya_Others</th>\n",
       "    </tr>\n",
       "  </thead>\n",
       "  <tbody>\n",
       "    <tr>\n",
       "      <th>0</th>\n",
       "      <td>61.8</td>\n",
       "      <td>85.9</td>\n",
       "      <td>81.5</td>\n",
       "      <td>72.1</td>\n",
       "      <td>87.2</td>\n",
       "      <td>70.7</td>\n",
       "      <td>62.4</td>\n",
       "      <td>60.8</td>\n",
       "      <td>66.0</td>\n",
       "      <td>80.0</td>\n",
       "      <td>...</td>\n",
       "      <td>0</td>\n",
       "      <td>0</td>\n",
       "      <td>1</td>\n",
       "      <td>0</td>\n",
       "      <td>0</td>\n",
       "      <td>0</td>\n",
       "      <td>1</td>\n",
       "      <td>0</td>\n",
       "      <td>0</td>\n",
       "      <td>1</td>\n",
       "    </tr>\n",
       "    <tr>\n",
       "      <th>1</th>\n",
       "      <td>70.3</td>\n",
       "      <td>85.8</td>\n",
       "      <td>87.6</td>\n",
       "      <td>73.3</td>\n",
       "      <td>68.5</td>\n",
       "      <td>65.5</td>\n",
       "      <td>86.7</td>\n",
       "      <td>77.1</td>\n",
       "      <td>77.6</td>\n",
       "      <td>83.0</td>\n",
       "      <td>...</td>\n",
       "      <td>0</td>\n",
       "      <td>0</td>\n",
       "      <td>0</td>\n",
       "      <td>1</td>\n",
       "      <td>0</td>\n",
       "      <td>0</td>\n",
       "      <td>1</td>\n",
       "      <td>1</td>\n",
       "      <td>0</td>\n",
       "      <td>1</td>\n",
       "    </tr>\n",
       "    <tr>\n",
       "      <th>2</th>\n",
       "      <td>72.3</td>\n",
       "      <td>84.9</td>\n",
       "      <td>61.9</td>\n",
       "      <td>62.6</td>\n",
       "      <td>76.6</td>\n",
       "      <td>72.2</td>\n",
       "      <td>76.3</td>\n",
       "      <td>70.2</td>\n",
       "      <td>64.0</td>\n",
       "      <td>70.1</td>\n",
       "      <td>...</td>\n",
       "      <td>0</td>\n",
       "      <td>0</td>\n",
       "      <td>1</td>\n",
       "      <td>0</td>\n",
       "      <td>0</td>\n",
       "      <td>1</td>\n",
       "      <td>0</td>\n",
       "      <td>0</td>\n",
       "      <td>1</td>\n",
       "      <td>0</td>\n",
       "    </tr>\n",
       "    <tr>\n",
       "      <th>3</th>\n",
       "      <td>73.7</td>\n",
       "      <td>68.3</td>\n",
       "      <td>74.8</td>\n",
       "      <td>87.2</td>\n",
       "      <td>60.7</td>\n",
       "      <td>87.1</td>\n",
       "      <td>84.8</td>\n",
       "      <td>65.2</td>\n",
       "      <td>61.0</td>\n",
       "      <td>75.1</td>\n",
       "      <td>...</td>\n",
       "      <td>0</td>\n",
       "      <td>0</td>\n",
       "      <td>0</td>\n",
       "      <td>0</td>\n",
       "      <td>0</td>\n",
       "      <td>0</td>\n",
       "      <td>0</td>\n",
       "      <td>1</td>\n",
       "      <td>0</td>\n",
       "      <td>1</td>\n",
       "    </tr>\n",
       "    <tr>\n",
       "      <th>4</th>\n",
       "      <td>72.1</td>\n",
       "      <td>78.0</td>\n",
       "      <td>66.5</td>\n",
       "      <td>75.8</td>\n",
       "      <td>69.3</td>\n",
       "      <td>71.2</td>\n",
       "      <td>70.1</td>\n",
       "      <td>67.4</td>\n",
       "      <td>78.7</td>\n",
       "      <td>70.8</td>\n",
       "      <td>...</td>\n",
       "      <td>0</td>\n",
       "      <td>0</td>\n",
       "      <td>0</td>\n",
       "      <td>0</td>\n",
       "      <td>1</td>\n",
       "      <td>0</td>\n",
       "      <td>1</td>\n",
       "      <td>1</td>\n",
       "      <td>0</td>\n",
       "      <td>0</td>\n",
       "    </tr>\n",
       "  </tbody>\n",
       "</table>\n",
       "<p>5 rows × 26 columns</p>\n",
       "</div>"
      ],
      "text/plain": [
       "   Bahasa  Inggris   TIK  Matematika  Fisika  Kimia  Biologi  Geografi  \\\n",
       "0    61.8     85.9  81.5        72.1    87.2   70.7     62.4      60.8   \n",
       "1    70.3     85.8  87.6        73.3    68.5   65.5     86.7      77.1   \n",
       "2    72.3     84.9  61.9        62.6    76.6   72.2     76.3      70.2   \n",
       "3    73.7     68.3  74.8        87.2    60.7   87.1     84.8      65.2   \n",
       "4    72.1     78.0  66.5        75.8    69.3   71.2     70.1      67.4   \n",
       "\n",
       "   Sosiologi  Antropologi  ...  Extra_Kurikuler_Ekskul_3  \\\n",
       "0       66.0         80.0  ...                         0   \n",
       "1       77.6         83.0  ...                         0   \n",
       "2       64.0         70.1  ...                         0   \n",
       "3       61.0         75.1  ...                         0   \n",
       "4       78.7         70.8  ...                         0   \n",
       "\n",
       "   Extra_Kurikuler_Ekskul_4  Extra_Kurikuler_Ekskul_5  \\\n",
       "0                         0                         1   \n",
       "1                         0                         0   \n",
       "2                         0                         1   \n",
       "3                         0                         0   \n",
       "4                         0                         0   \n",
       "\n",
       "   Extra_Kurikuler_Ekskul_6  Extra_Kurikuler_Tidak  Tinggal_Dengan_Orang Tua  \\\n",
       "0                         0                      0                         0   \n",
       "1                         1                      0                         0   \n",
       "2                         0                      0                         1   \n",
       "3                         0                      0                         0   \n",
       "4                         0                      1                         0   \n",
       "\n",
       "   Tinggal_Dengan_Others  Status_Kerja_Belum  Biaya_Orang Tua  Biaya_Others  \n",
       "0                      1                   0                0             1  \n",
       "1                      1                   1                0             1  \n",
       "2                      0                   0                1             0  \n",
       "3                      0                   1                0             1  \n",
       "4                      1                   1                0             0  \n",
       "\n",
       "[5 rows x 26 columns]"
      ]
     },
     "execution_count": 37,
     "metadata": {},
     "output_type": "execute_result"
    },
    {
     "name": "stdout",
     "output_type": "stream",
     "text": [
      "time: 32 ms (started: 2022-10-01 15:39:51 +07:00)\n"
     ]
    }
   ],
   "source": [
    "dftest = pd.read_csv('Test_Preprocessed.csv')\n",
    "dftest.head()"
   ]
  },
  {
   "cell_type": "code",
   "execution_count": 39,
   "id": "d1ea57f2",
   "metadata": {},
   "outputs": [
    {
     "name": "stdout",
     "output_type": "stream",
     "text": [
      "time: 547 ms (started: 2022-10-01 15:40:08 +07:00)\n"
     ]
    }
   ],
   "source": [
    "testpred = SVC_Model.predict(dftest)"
   ]
  },
  {
   "cell_type": "code",
   "execution_count": 41,
   "id": "286ccdbe",
   "metadata": {},
   "outputs": [
    {
     "data": {
      "text/html": [
       "<div>\n",
       "<style scoped>\n",
       "    .dataframe tbody tr th:only-of-type {\n",
       "        vertical-align: middle;\n",
       "    }\n",
       "\n",
       "    .dataframe tbody tr th {\n",
       "        vertical-align: top;\n",
       "    }\n",
       "\n",
       "    .dataframe thead th {\n",
       "        text-align: right;\n",
       "    }\n",
       "</style>\n",
       "<table border=\"1\" class=\"dataframe\">\n",
       "  <thead>\n",
       "    <tr style=\"text-align: right;\">\n",
       "      <th></th>\n",
       "      <th>Bahasa</th>\n",
       "      <th>Inggris</th>\n",
       "      <th>TIK</th>\n",
       "      <th>Matematika</th>\n",
       "      <th>Fisika</th>\n",
       "      <th>Kimia</th>\n",
       "      <th>Biologi</th>\n",
       "      <th>Geografi</th>\n",
       "      <th>Sosiologi</th>\n",
       "      <th>Antropologi</th>\n",
       "      <th>...</th>\n",
       "      <th>Extra_Kurikuler_Ekskul_4</th>\n",
       "      <th>Extra_Kurikuler_Ekskul_5</th>\n",
       "      <th>Extra_Kurikuler_Ekskul_6</th>\n",
       "      <th>Extra_Kurikuler_Tidak</th>\n",
       "      <th>Tinggal_Dengan_Orang Tua</th>\n",
       "      <th>Tinggal_Dengan_Others</th>\n",
       "      <th>Status_Kerja_Belum</th>\n",
       "      <th>Biaya_Orang Tua</th>\n",
       "      <th>Biaya_Others</th>\n",
       "      <th>Lama_Kuliah</th>\n",
       "    </tr>\n",
       "  </thead>\n",
       "  <tbody>\n",
       "    <tr>\n",
       "      <th>0</th>\n",
       "      <td>61.8</td>\n",
       "      <td>85.9</td>\n",
       "      <td>81.5</td>\n",
       "      <td>72.1</td>\n",
       "      <td>87.2</td>\n",
       "      <td>70.7</td>\n",
       "      <td>62.4</td>\n",
       "      <td>60.8</td>\n",
       "      <td>66.0</td>\n",
       "      <td>80.0</td>\n",
       "      <td>...</td>\n",
       "      <td>0</td>\n",
       "      <td>1</td>\n",
       "      <td>0</td>\n",
       "      <td>0</td>\n",
       "      <td>0</td>\n",
       "      <td>1</td>\n",
       "      <td>0</td>\n",
       "      <td>0</td>\n",
       "      <td>1</td>\n",
       "      <td>5.0</td>\n",
       "    </tr>\n",
       "    <tr>\n",
       "      <th>1</th>\n",
       "      <td>70.3</td>\n",
       "      <td>85.8</td>\n",
       "      <td>87.6</td>\n",
       "      <td>73.3</td>\n",
       "      <td>68.5</td>\n",
       "      <td>65.5</td>\n",
       "      <td>86.7</td>\n",
       "      <td>77.1</td>\n",
       "      <td>77.6</td>\n",
       "      <td>83.0</td>\n",
       "      <td>...</td>\n",
       "      <td>0</td>\n",
       "      <td>0</td>\n",
       "      <td>1</td>\n",
       "      <td>0</td>\n",
       "      <td>0</td>\n",
       "      <td>1</td>\n",
       "      <td>1</td>\n",
       "      <td>0</td>\n",
       "      <td>1</td>\n",
       "      <td>5.0</td>\n",
       "    </tr>\n",
       "    <tr>\n",
       "      <th>2</th>\n",
       "      <td>72.3</td>\n",
       "      <td>84.9</td>\n",
       "      <td>61.9</td>\n",
       "      <td>62.6</td>\n",
       "      <td>76.6</td>\n",
       "      <td>72.2</td>\n",
       "      <td>76.3</td>\n",
       "      <td>70.2</td>\n",
       "      <td>64.0</td>\n",
       "      <td>70.1</td>\n",
       "      <td>...</td>\n",
       "      <td>0</td>\n",
       "      <td>1</td>\n",
       "      <td>0</td>\n",
       "      <td>0</td>\n",
       "      <td>1</td>\n",
       "      <td>0</td>\n",
       "      <td>0</td>\n",
       "      <td>1</td>\n",
       "      <td>0</td>\n",
       "      <td>7.0</td>\n",
       "    </tr>\n",
       "    <tr>\n",
       "      <th>3</th>\n",
       "      <td>73.7</td>\n",
       "      <td>68.3</td>\n",
       "      <td>74.8</td>\n",
       "      <td>87.2</td>\n",
       "      <td>60.7</td>\n",
       "      <td>87.1</td>\n",
       "      <td>84.8</td>\n",
       "      <td>65.2</td>\n",
       "      <td>61.0</td>\n",
       "      <td>75.1</td>\n",
       "      <td>...</td>\n",
       "      <td>0</td>\n",
       "      <td>0</td>\n",
       "      <td>0</td>\n",
       "      <td>0</td>\n",
       "      <td>0</td>\n",
       "      <td>0</td>\n",
       "      <td>1</td>\n",
       "      <td>0</td>\n",
       "      <td>1</td>\n",
       "      <td>5.0</td>\n",
       "    </tr>\n",
       "    <tr>\n",
       "      <th>4</th>\n",
       "      <td>72.1</td>\n",
       "      <td>78.0</td>\n",
       "      <td>66.5</td>\n",
       "      <td>75.8</td>\n",
       "      <td>69.3</td>\n",
       "      <td>71.2</td>\n",
       "      <td>70.1</td>\n",
       "      <td>67.4</td>\n",
       "      <td>78.7</td>\n",
       "      <td>70.8</td>\n",
       "      <td>...</td>\n",
       "      <td>0</td>\n",
       "      <td>0</td>\n",
       "      <td>0</td>\n",
       "      <td>1</td>\n",
       "      <td>0</td>\n",
       "      <td>1</td>\n",
       "      <td>1</td>\n",
       "      <td>0</td>\n",
       "      <td>0</td>\n",
       "      <td>5.0</td>\n",
       "    </tr>\n",
       "  </tbody>\n",
       "</table>\n",
       "<p>5 rows × 27 columns</p>\n",
       "</div>"
      ],
      "text/plain": [
       "   Bahasa  Inggris   TIK  Matematika  Fisika  Kimia  Biologi  Geografi  \\\n",
       "0    61.8     85.9  81.5        72.1    87.2   70.7     62.4      60.8   \n",
       "1    70.3     85.8  87.6        73.3    68.5   65.5     86.7      77.1   \n",
       "2    72.3     84.9  61.9        62.6    76.6   72.2     76.3      70.2   \n",
       "3    73.7     68.3  74.8        87.2    60.7   87.1     84.8      65.2   \n",
       "4    72.1     78.0  66.5        75.8    69.3   71.2     70.1      67.4   \n",
       "\n",
       "   Sosiologi  Antropologi  ...  Extra_Kurikuler_Ekskul_4  \\\n",
       "0       66.0         80.0  ...                         0   \n",
       "1       77.6         83.0  ...                         0   \n",
       "2       64.0         70.1  ...                         0   \n",
       "3       61.0         75.1  ...                         0   \n",
       "4       78.7         70.8  ...                         0   \n",
       "\n",
       "   Extra_Kurikuler_Ekskul_5  Extra_Kurikuler_Ekskul_6  Extra_Kurikuler_Tidak  \\\n",
       "0                         1                         0                      0   \n",
       "1                         0                         1                      0   \n",
       "2                         1                         0                      0   \n",
       "3                         0                         0                      0   \n",
       "4                         0                         0                      1   \n",
       "\n",
       "   Tinggal_Dengan_Orang Tua  Tinggal_Dengan_Others  Status_Kerja_Belum  \\\n",
       "0                         0                      1                   0   \n",
       "1                         0                      1                   1   \n",
       "2                         1                      0                   0   \n",
       "3                         0                      0                   1   \n",
       "4                         0                      1                   1   \n",
       "\n",
       "   Biaya_Orang Tua  Biaya_Others  Lama_Kuliah  \n",
       "0                0             1          5.0  \n",
       "1                0             1          5.0  \n",
       "2                1             0          7.0  \n",
       "3                0             1          5.0  \n",
       "4                0             0          5.0  \n",
       "\n",
       "[5 rows x 27 columns]"
      ]
     },
     "execution_count": 41,
     "metadata": {},
     "output_type": "execute_result"
    },
    {
     "name": "stdout",
     "output_type": "stream",
     "text": [
      "time: 15 ms (started: 2022-10-01 15:43:07 +07:00)\n"
     ]
    }
   ],
   "source": [
    "dfresult = dftest\n",
    "dfresult['Lama_Kuliah'] = testpred\n",
    "dfresult.head()"
   ]
  },
  {
   "cell_type": "code",
   "execution_count": 46,
   "id": "ac2b6f21",
   "metadata": {},
   "outputs": [
    {
     "data": {
      "text/plain": [
       "<AxesSubplot: title={'center': 'Lama Kuliah'}>"
      ]
     },
     "execution_count": 46,
     "metadata": {},
     "output_type": "execute_result"
    },
    {
     "data": {
      "image/png": "[encoded data removed]",
      "text/plain": [
       "<Figure size 640x480 with 1 Axes>"
      ]
     },
     "metadata": {},
     "output_type": "display_data"
    },
    {
     "name": "stdout",
     "output_type": "stream",
     "text": [
      "time: 156 ms (started: 2022-10-01 15:44:47 +07:00)\n"
     ]
    }
   ],
   "source": [
    "dfresult['Lama_Kuliah'].value_counts().plot(kind = 'bar', title = 'Lama Kuliah', color = 'orchid')"
   ]
  },
  {
   "cell_type": "code",
   "execution_count": 47,
   "id": "17f21ce4",
   "metadata": {},
   "outputs": [
    {
     "name": "stdout",
     "output_type": "stream",
     "text": [
      "time: 0 ns (started: 2022-10-01 15:49:01 +07:00)\n"
     ]
    }
   ],
   "source": [
    "dfresult.to_csv('HasilTest1.csv', index = False)"
   ]
  },
  {
   "cell_type": "code",
   "execution_count": null,
   "id": "44fccfe0",
   "metadata": {},
   "outputs": [],
   "source": []
  }
 ],
 "metadata": {
  "kernelspec": {
   "display_name": "Python 3 (ipykernel)",
   "language": "python",
   "name": "python3"
  },
  "language_info": {
   "codemirror_mode": {
    "name": "ipython",
    "version": 3
   },
   "file_extension": ".py",
   "mimetype": "text/x-python",
   "name": "python",
   "nbconvert_exporter": "python",
   "pygments_lexer": "ipython3",
   "version": "3.10.2"
  }
 },
 "nbformat": 4,
 "nbformat_minor": 5
}
